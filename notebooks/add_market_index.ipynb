{
 "cells": [
  {
   "cell_type": "code",
   "execution_count": 1,
   "id": "initial_id",
   "metadata": {},
   "outputs": [
    {
     "data": {
      "text/plain": [
       "'D:\\\\dlquant\\\\notebooks'"
      ]
     },
     "execution_count": 1,
     "metadata": {},
     "output_type": "execute_result"
    }
   ],
   "source": [
    "import os\n",
    "os.getcwd()"
   ]
  },
  {
   "cell_type": "code",
   "execution_count": 2,
   "id": "fc521e1c-6927-45d1-ae7c-8edf9fb8690e",
   "metadata": {},
   "outputs": [
    {
     "data": {
      "text/plain": [
       "'d:\\\\dlquant'"
      ]
     },
     "execution_count": 2,
     "metadata": {},
     "output_type": "execute_result"
    }
   ],
   "source": [
    "os.chdir('d:/dlquant')\n",
    "os.getcwd()\n"
   ]
  },
  {
   "cell_type": "code",
   "execution_count": 3,
   "id": "0d6f998f-04f0-495d-9724-d2ecef6d9495",
   "metadata": {},
   "outputs": [],
   "source": [
    "from load_data.download_xt_data import get_data_from_local"
   ]
  },
  {
   "cell_type": "code",
   "execution_count": 5,
   "id": "fc21642a-a5dc-4a9d-b6e4-855099f91f99",
   "metadata": {},
   "outputs": [
    {
     "name": "stdout",
     "output_type": "stream",
     "text": [
      "***** xtdata连接成功 *****\n",
      "服务信息: {'tag': 'sp3', 'version': '1.0'}\n",
      "服务地址: 127.0.0.1:58610\n",
      "数据路径: C:\\e_trader\\bin.x64/../userdata_mini/datadir\n",
      "设置xtdata.enable_hello = False可隐藏此消息\n",
      "\n"
     ]
    },
    {
     "name": "stderr",
     "output_type": "stream",
     "text": [
      "\u001b[32m2024-11-02 10:04:09 | INFO     | download_xt_data:36 - 成功下载股票数据：000001.SH\u001b[0m\n",
      "\u001b[32m2024-11-02 10:04:09 | INFO     | download_xt_data:36 - 成功下载股票数据：399001.SZ\u001b[0m\n",
      "\u001b[32m2024-11-02 10:04:09 | INFO     | download_xt_data:36 - 成功下载股票数据：399006.SZ\u001b[0m\n"
     ]
    },
    {
     "data": {
      "text/html": [
       "<div>\n",
       "<style scoped>\n",
       "    .dataframe tbody tr th:only-of-type {\n",
       "        vertical-align: middle;\n",
       "    }\n",
       "\n",
       "    .dataframe tbody tr th {\n",
       "        vertical-align: top;\n",
       "    }\n",
       "\n",
       "    .dataframe thead th {\n",
       "        text-align: right;\n",
       "    }\n",
       "</style>\n",
       "<table border=\"1\" class=\"dataframe\">\n",
       "  <thead>\n",
       "    <tr style=\"text-align: right;\">\n",
       "      <th></th>\n",
       "      <th>time</th>\n",
       "      <th>open</th>\n",
       "      <th>high</th>\n",
       "      <th>low</th>\n",
       "      <th>close</th>\n",
       "      <th>volume</th>\n",
       "      <th>amount</th>\n",
       "      <th>settelementPrice</th>\n",
       "      <th>openInterest</th>\n",
       "      <th>preClose</th>\n",
       "      <th>suspendFlag</th>\n",
       "      <th>stock_code</th>\n",
       "    </tr>\n",
       "    <tr>\n",
       "      <th>date</th>\n",
       "      <th></th>\n",
       "      <th></th>\n",
       "      <th></th>\n",
       "      <th></th>\n",
       "      <th></th>\n",
       "      <th></th>\n",
       "      <th></th>\n",
       "      <th></th>\n",
       "      <th></th>\n",
       "      <th></th>\n",
       "      <th></th>\n",
       "      <th></th>\n",
       "    </tr>\n",
       "  </thead>\n",
       "  <tbody>\n",
       "    <tr>\n",
       "      <th>20160104</th>\n",
       "      <td>1451836800000</td>\n",
       "      <td>3536.588</td>\n",
       "      <td>3538.689</td>\n",
       "      <td>3295.740</td>\n",
       "      <td>3296.258</td>\n",
       "      <td>184418423</td>\n",
       "      <td>2.409292e+11</td>\n",
       "      <td>0.0</td>\n",
       "      <td>0</td>\n",
       "      <td>3539.181</td>\n",
       "      <td>0</td>\n",
       "      <td>000001.SH</td>\n",
       "    </tr>\n",
       "    <tr>\n",
       "      <th>20160105</th>\n",
       "      <td>1451923200000</td>\n",
       "      <td>3196.651</td>\n",
       "      <td>3328.138</td>\n",
       "      <td>3189.604</td>\n",
       "      <td>3287.710</td>\n",
       "      <td>266882083</td>\n",
       "      <td>3.284172e+11</td>\n",
       "      <td>0.0</td>\n",
       "      <td>0</td>\n",
       "      <td>3296.258</td>\n",
       "      <td>0</td>\n",
       "      <td>000001.SH</td>\n",
       "    </tr>\n",
       "    <tr>\n",
       "      <th>20160106</th>\n",
       "      <td>1452009600000</td>\n",
       "      <td>3291.194</td>\n",
       "      <td>3362.973</td>\n",
       "      <td>3288.933</td>\n",
       "      <td>3361.840</td>\n",
       "      <td>238886670</td>\n",
       "      <td>2.852432e+11</td>\n",
       "      <td>0.0</td>\n",
       "      <td>0</td>\n",
       "      <td>3287.710</td>\n",
       "      <td>0</td>\n",
       "      <td>000001.SH</td>\n",
       "    </tr>\n",
       "    <tr>\n",
       "      <th>20160107</th>\n",
       "      <td>1452096000000</td>\n",
       "      <td>3309.657</td>\n",
       "      <td>3309.657</td>\n",
       "      <td>3115.885</td>\n",
       "      <td>3125.001</td>\n",
       "      <td>70569123</td>\n",
       "      <td>7.998199e+10</td>\n",
       "      <td>0.0</td>\n",
       "      <td>0</td>\n",
       "      <td>3361.840</td>\n",
       "      <td>0</td>\n",
       "      <td>000001.SH</td>\n",
       "    </tr>\n",
       "    <tr>\n",
       "      <th>20160108</th>\n",
       "      <td>1452182400000</td>\n",
       "      <td>3194.625</td>\n",
       "      <td>3235.451</td>\n",
       "      <td>3056.877</td>\n",
       "      <td>3186.412</td>\n",
       "      <td>286440822</td>\n",
       "      <td>3.241671e+11</td>\n",
       "      <td>0.0</td>\n",
       "      <td>0</td>\n",
       "      <td>3125.001</td>\n",
       "      <td>0</td>\n",
       "      <td>000001.SH</td>\n",
       "    </tr>\n",
       "  </tbody>\n",
       "</table>\n",
       "</div>"
      ],
      "text/plain": [
       "                   time      open      high       low     close     volume  \\\n",
       "date                                                                         \n",
       "20160104  1451836800000  3536.588  3538.689  3295.740  3296.258  184418423   \n",
       "20160105  1451923200000  3196.651  3328.138  3189.604  3287.710  266882083   \n",
       "20160106  1452009600000  3291.194  3362.973  3288.933  3361.840  238886670   \n",
       "20160107  1452096000000  3309.657  3309.657  3115.885  3125.001   70569123   \n",
       "20160108  1452182400000  3194.625  3235.451  3056.877  3186.412  286440822   \n",
       "\n",
       "                amount  settelementPrice  openInterest  preClose  suspendFlag  \\\n",
       "date                                                                            \n",
       "20160104  2.409292e+11               0.0             0  3539.181            0   \n",
       "20160105  3.284172e+11               0.0             0  3296.258            0   \n",
       "20160106  2.852432e+11               0.0             0  3287.710            0   \n",
       "20160107  7.998199e+10               0.0             0  3361.840            0   \n",
       "20160108  3.241671e+11               0.0             0  3125.001            0   \n",
       "\n",
       "         stock_code  \n",
       "date                 \n",
       "20160104  000001.SH  \n",
       "20160105  000001.SH  \n",
       "20160106  000001.SH  \n",
       "20160107  000001.SH  \n",
       "20160108  000001.SH  "
      ]
     },
     "execution_count": 5,
     "metadata": {},
     "output_type": "execute_result"
    }
   ],
   "source": [
    "stock_list = ['000001.SH', '399001.SZ', '399006.SZ']\n",
    "df = get_data_from_local(stock_list = stock_list)\n",
    "df.head()"
   ]
  },
  {
   "cell_type": "code",
   "execution_count": 4,
   "id": "98eeed20-96c5-4ffc-96ac-7349bebd9c04",
   "metadata": {},
   "outputs": [
    {
     "data": {
      "text/plain": [
       "\u001b[1;31mSignature:\u001b[0m\n",
       " \u001b[0mget_data_from_local\u001b[0m\u001b[1;33m(\u001b[0m\u001b[1;33m\n",
       "\u001b[0m    \u001b[0mperiod\u001b[0m\u001b[1;33m:\u001b[0m \u001b[0mstr\u001b[0m \u001b[1;33m=\u001b[0m \u001b[1;34m'1d'\u001b[0m\u001b[1;33m,\u001b[0m\u001b[1;33m\n",
       "\u001b[0m    \u001b[0mstart_time\u001b[0m\u001b[1;33m:\u001b[0m \u001b[0mOptional\u001b[0m\u001b[1;33m[\u001b[0m\u001b[0mstr\u001b[0m\u001b[1;33m]\u001b[0m \u001b[1;33m=\u001b[0m \u001b[1;32mNone\u001b[0m\u001b[1;33m,\u001b[0m\u001b[1;33m\n",
       "\u001b[0m    \u001b[0mend_time\u001b[0m\u001b[1;33m:\u001b[0m \u001b[0mOptional\u001b[0m\u001b[1;33m[\u001b[0m\u001b[0mstr\u001b[0m\u001b[1;33m]\u001b[0m \u001b[1;33m=\u001b[0m \u001b[1;32mNone\u001b[0m\u001b[1;33m,\u001b[0m\u001b[1;33m\n",
       "\u001b[0m    \u001b[0mstock_list\u001b[0m\u001b[1;33m:\u001b[0m \u001b[0mOptional\u001b[0m\u001b[1;33m[\u001b[0m\u001b[0mList\u001b[0m\u001b[1;33m[\u001b[0m\u001b[0mstr\u001b[0m\u001b[1;33m]\u001b[0m\u001b[1;33m]\u001b[0m \u001b[1;33m=\u001b[0m \u001b[1;32mNone\u001b[0m\u001b[1;33m,\u001b[0m\u001b[1;33m\n",
       "\u001b[0m\u001b[1;33m)\u001b[0m \u001b[1;33m->\u001b[0m \u001b[0mpandas\u001b[0m\u001b[1;33m.\u001b[0m\u001b[0mcore\u001b[0m\u001b[1;33m.\u001b[0m\u001b[0mframe\u001b[0m\u001b[1;33m.\u001b[0m\u001b[0mDataFrame\u001b[0m\u001b[1;33m\u001b[0m\u001b[1;33m\u001b[0m\u001b[0m\n",
       "\u001b[1;31mDocstring:\u001b[0m\n",
       "获取历史股票数据并返回为 pandas DataFrame。\n",
       "\n",
       ":param period: 时间周期，默认 '1d'\n",
       ":param start_time: 起始时间，格式为 'YYYYMMDD'，默认 '20160101'\n",
       ":param end_time: 结束时间，格式为 'YYYYMMDD%H%M%S'，默认当前日期\n",
       ":param stock_list: 股票列表，格式为 ['xxxxxx.XX','xxxxxx.XX']，默认为None\n",
       ":return: 包含股票数据的 pandas DataFrame\n",
       "\u001b[1;31mFile:\u001b[0m      d:\\dlquant\\load_data\\download_xt_data.py\n",
       "\u001b[1;31mType:\u001b[0m      function"
      ]
     },
     "metadata": {},
     "output_type": "display_data"
    }
   ],
   "source": [
    "? get_data_from_local"
   ]
  },
  {
   "cell_type": "code",
   "execution_count": null,
   "id": "6aaa4bb6-76bd-41ce-b60f-d79cfd994676",
   "metadata": {},
   "outputs": [],
   "source": []
  }
 ],
 "metadata": {
  "kernelspec": {
   "display_name": "Python 3 (ipykernel)",
   "language": "python",
   "name": "python3"
  },
  "language_info": {
   "codemirror_mode": {
    "name": "ipython",
    "version": 3
   },
   "file_extension": ".py",
   "mimetype": "text/x-python",
   "name": "python",
   "nbconvert_exporter": "python",
   "pygments_lexer": "ipython3",
   "version": "3.11.9"
  }
 },
 "nbformat": 4,
 "nbformat_minor": 5
}
