{
 "cells": [
  {
   "cell_type": "code",
   "execution_count": 2,
   "id": "initial_id",
   "metadata": {},
   "outputs": [
    {
     "name": "stdout",
     "output_type": "stream",
     "text": [
      "当前工作目录：D:\\dlquant\n",
      "matplotlib显示字体已设置为中文。\n"
     ]
    }
   ],
   "source": [
    "! set_jupyter.py"
   ]
  },
  {
   "cell_type": "code",
   "execution_count": 3,
   "id": "fc521e1c-6927-45d1-ae7c-8edf9fb8690e",
   "metadata": {},
   "outputs": [
    {
     "data": {
      "text/plain": [
       "'d:\\\\dlquant'"
      ]
     },
     "execution_count": 3,
     "metadata": {},
     "output_type": "execute_result"
    }
   ],
   "source": [
    "import os\n",
    "os.chdir('d:/dlquant')\n",
    "os.getcwd()\n"
   ]
  },
  {
   "cell_type": "code",
   "execution_count": 3,
   "id": "0d6f998f-04f0-495d-9724-d2ecef6d9495",
   "metadata": {},
   "outputs": [],
   "source": [
    "from load_data.download_xt_data import get_data_from_local"
   ]
  },
  {
   "cell_type": "code",
   "execution_count": 4,
   "id": "fc21642a-a5dc-4a9d-b6e4-855099f91f99",
   "metadata": {},
   "outputs": [
    {
     "name": "stderr",
     "output_type": "stream",
     "text": [
      "\u001B[32m2024-11-02 10:52:43 | INFO     | download_xt_data:36 - 成功下载股票数据：000001.SH\u001B[0m\n"
     ]
    },
    {
     "name": "stdout",
     "output_type": "stream",
     "text": [
      "***** xtdata连接成功 *****\n",
      "服务信息: {'tag': 'sp3', 'version': '1.0'}\n",
      "服务地址: 127.0.0.1:58610\n",
      "数据路径: C:\\e_trader\\bin.x64/../userdata_mini/datadir\n",
      "设置xtdata.enable_hello = False可隐藏此消息\n",
      "\n"
     ]
    },
    {
     "name": "stderr",
     "output_type": "stream",
     "text": [
      "\u001B[32m2024-11-02 10:52:44 | INFO     | download_xt_data:36 - 成功下载股票数据：399001.SZ\u001B[0m\n",
      "\u001B[32m2024-11-02 10:52:44 | INFO     | download_xt_data:36 - 成功下载股票数据：399006.SZ\u001B[0m\n"
     ]
    },
    {
     "data": {
      "text/html": [
       "<div>\n",
       "<style scoped>\n",
       "    .dataframe tbody tr th:only-of-type {\n",
       "        vertical-align: middle;\n",
       "    }\n",
       "\n",
       "    .dataframe tbody tr th {\n",
       "        vertical-align: top;\n",
       "    }\n",
       "\n",
       "    .dataframe thead th {\n",
       "        text-align: right;\n",
       "    }\n",
       "</style>\n",
       "<table border=\"1\" class=\"dataframe\">\n",
       "  <thead>\n",
       "    <tr style=\"text-align: right;\">\n",
       "      <th></th>\n",
       "      <th>time</th>\n",
       "      <th>open</th>\n",
       "      <th>high</th>\n",
       "      <th>low</th>\n",
       "      <th>close</th>\n",
       "      <th>volume</th>\n",
       "      <th>amount</th>\n",
       "      <th>settelementPrice</th>\n",
       "      <th>openInterest</th>\n",
       "      <th>preClose</th>\n",
       "      <th>suspendFlag</th>\n",
       "      <th>stock_code</th>\n",
       "    </tr>\n",
       "    <tr>\n",
       "      <th>date</th>\n",
       "      <th></th>\n",
       "      <th></th>\n",
       "      <th></th>\n",
       "      <th></th>\n",
       "      <th></th>\n",
       "      <th></th>\n",
       "      <th></th>\n",
       "      <th></th>\n",
       "      <th></th>\n",
       "      <th></th>\n",
       "      <th></th>\n",
       "      <th></th>\n",
       "    </tr>\n",
       "  </thead>\n",
       "  <tbody>\n",
       "    <tr>\n",
       "      <th>20160104</th>\n",
       "      <td>1451836800000</td>\n",
       "      <td>3536.588</td>\n",
       "      <td>3538.689</td>\n",
       "      <td>3295.740</td>\n",
       "      <td>3296.258</td>\n",
       "      <td>184418423</td>\n",
       "      <td>2.409292e+11</td>\n",
       "      <td>0.0</td>\n",
       "      <td>0</td>\n",
       "      <td>3539.181</td>\n",
       "      <td>0</td>\n",
       "      <td>000001.SH</td>\n",
       "    </tr>\n",
       "    <tr>\n",
       "      <th>20160105</th>\n",
       "      <td>1451923200000</td>\n",
       "      <td>3196.651</td>\n",
       "      <td>3328.138</td>\n",
       "      <td>3189.604</td>\n",
       "      <td>3287.710</td>\n",
       "      <td>266882083</td>\n",
       "      <td>3.284172e+11</td>\n",
       "      <td>0.0</td>\n",
       "      <td>0</td>\n",
       "      <td>3296.258</td>\n",
       "      <td>0</td>\n",
       "      <td>000001.SH</td>\n",
       "    </tr>\n",
       "    <tr>\n",
       "      <th>20160106</th>\n",
       "      <td>1452009600000</td>\n",
       "      <td>3291.194</td>\n",
       "      <td>3362.973</td>\n",
       "      <td>3288.933</td>\n",
       "      <td>3361.840</td>\n",
       "      <td>238886670</td>\n",
       "      <td>2.852432e+11</td>\n",
       "      <td>0.0</td>\n",
       "      <td>0</td>\n",
       "      <td>3287.710</td>\n",
       "      <td>0</td>\n",
       "      <td>000001.SH</td>\n",
       "    </tr>\n",
       "    <tr>\n",
       "      <th>20160107</th>\n",
       "      <td>1452096000000</td>\n",
       "      <td>3309.657</td>\n",
       "      <td>3309.657</td>\n",
       "      <td>3115.885</td>\n",
       "      <td>3125.001</td>\n",
       "      <td>70569123</td>\n",
       "      <td>7.998199e+10</td>\n",
       "      <td>0.0</td>\n",
       "      <td>0</td>\n",
       "      <td>3361.840</td>\n",
       "      <td>0</td>\n",
       "      <td>000001.SH</td>\n",
       "    </tr>\n",
       "    <tr>\n",
       "      <th>20160108</th>\n",
       "      <td>1452182400000</td>\n",
       "      <td>3194.625</td>\n",
       "      <td>3235.451</td>\n",
       "      <td>3056.877</td>\n",
       "      <td>3186.412</td>\n",
       "      <td>286440822</td>\n",
       "      <td>3.241671e+11</td>\n",
       "      <td>0.0</td>\n",
       "      <td>0</td>\n",
       "      <td>3125.001</td>\n",
       "      <td>0</td>\n",
       "      <td>000001.SH</td>\n",
       "    </tr>\n",
       "  </tbody>\n",
       "</table>\n",
       "</div>"
      ],
      "text/plain": [
       "                   time      open      high       low     close     volume  \\\n",
       "date                                                                         \n",
       "20160104  1451836800000  3536.588  3538.689  3295.740  3296.258  184418423   \n",
       "20160105  1451923200000  3196.651  3328.138  3189.604  3287.710  266882083   \n",
       "20160106  1452009600000  3291.194  3362.973  3288.933  3361.840  238886670   \n",
       "20160107  1452096000000  3309.657  3309.657  3115.885  3125.001   70569123   \n",
       "20160108  1452182400000  3194.625  3235.451  3056.877  3186.412  286440822   \n",
       "\n",
       "                amount  settelementPrice  openInterest  preClose  suspendFlag  \\\n",
       "date                                                                            \n",
       "20160104  2.409292e+11               0.0             0  3539.181            0   \n",
       "20160105  3.284172e+11               0.0             0  3296.258            0   \n",
       "20160106  2.852432e+11               0.0             0  3287.710            0   \n",
       "20160107  7.998199e+10               0.0             0  3361.840            0   \n",
       "20160108  3.241671e+11               0.0             0  3125.001            0   \n",
       "\n",
       "         stock_code  \n",
       "date                 \n",
       "20160104  000001.SH  \n",
       "20160105  000001.SH  \n",
       "20160106  000001.SH  \n",
       "20160107  000001.SH  \n",
       "20160108  000001.SH  "
      ]
     },
     "execution_count": 4,
     "metadata": {},
     "output_type": "execute_result"
    }
   ],
   "source": [
    "stock_list = ['000001.SH', '399001.SZ', '399006.SZ']\n",
    "df = get_data_from_local(stock_list = stock_list)\n",
    "df.head()"
   ]
  },
  {
   "cell_type": "code",
   "execution_count": 5,
   "id": "98eeed20-96c5-4ffc-96ac-7349bebd9c04",
   "metadata": {},
   "outputs": [
    {
     "data": {
      "text/plain": [
       "\u001B[1;31mSignature:\u001B[0m\n",
       " \u001B[0mget_data_from_local\u001B[0m\u001B[1;33m(\u001B[0m\u001B[1;33m\n",
       "\u001B[0m    \u001B[0mperiod\u001B[0m\u001B[1;33m:\u001B[0m \u001B[0mstr\u001B[0m \u001B[1;33m=\u001B[0m \u001B[1;34m'1d'\u001B[0m\u001B[1;33m,\u001B[0m\u001B[1;33m\n",
       "\u001B[0m    \u001B[0mstart_time\u001B[0m\u001B[1;33m:\u001B[0m \u001B[0mOptional\u001B[0m\u001B[1;33m[\u001B[0m\u001B[0mstr\u001B[0m\u001B[1;33m]\u001B[0m \u001B[1;33m=\u001B[0m \u001B[1;32mNone\u001B[0m\u001B[1;33m,\u001B[0m\u001B[1;33m\n",
       "\u001B[0m    \u001B[0mend_time\u001B[0m\u001B[1;33m:\u001B[0m \u001B[0mOptional\u001B[0m\u001B[1;33m[\u001B[0m\u001B[0mstr\u001B[0m\u001B[1;33m]\u001B[0m \u001B[1;33m=\u001B[0m \u001B[1;32mNone\u001B[0m\u001B[1;33m,\u001B[0m\u001B[1;33m\n",
       "\u001B[0m    \u001B[0mstock_list\u001B[0m\u001B[1;33m:\u001B[0m \u001B[0mOptional\u001B[0m\u001B[1;33m[\u001B[0m\u001B[0mList\u001B[0m\u001B[1;33m[\u001B[0m\u001B[0mstr\u001B[0m\u001B[1;33m]\u001B[0m\u001B[1;33m]\u001B[0m \u001B[1;33m=\u001B[0m \u001B[1;32mNone\u001B[0m\u001B[1;33m,\u001B[0m\u001B[1;33m\n",
       "\u001B[0m\u001B[1;33m)\u001B[0m \u001B[1;33m->\u001B[0m \u001B[0mpandas\u001B[0m\u001B[1;33m.\u001B[0m\u001B[0mcore\u001B[0m\u001B[1;33m.\u001B[0m\u001B[0mframe\u001B[0m\u001B[1;33m.\u001B[0m\u001B[0mDataFrame\u001B[0m\u001B[1;33m\u001B[0m\u001B[1;33m\u001B[0m\u001B[0m\n",
       "\u001B[1;31mDocstring:\u001B[0m\n",
       "获取历史股票数据并返回为 pandas DataFrame。\n",
       "\n",
       ":param period: 时间周期，默认 '1d'\n",
       ":param start_time: 起始时间，格式为 'YYYYMMDD'，默认 '20160101'\n",
       ":param end_time: 结束时间，格式为 'YYYYMMDD%H%M%S'，默认当前日期\n",
       ":param stock_list: 股票列表，格式为 ['xxxxxx.XX','xxxxxx.XX']，默认为None\n",
       ":return: 包含股票数据的 pandas DataFrame\n",
       "\u001B[1;31mFile:\u001B[0m      d:\\dlquant\\load_data\\download_xt_data.py\n",
       "\u001B[1;31mType:\u001B[0m      function"
      ]
     },
     "metadata": {},
     "output_type": "display_data"
    }
   ],
   "source": [
    "? get_data_from_local"
   ]
  },
  {
   "cell_type": "code",
   "execution_count": 6,
   "id": "6aaa4bb6-76bd-41ce-b60f-d79cfd994676",
   "metadata": {},
   "outputs": [
    {
     "data": {
      "text/plain": [
       "Index(['time', 'open', 'high', 'low', 'close', 'volume', 'amount',\n",
       "       'settelementPrice', 'openInterest', 'preClose', 'suspendFlag',\n",
       "       'stock_code'],\n",
       "      dtype='object')"
      ]
     },
     "execution_count": 6,
     "metadata": {},
     "output_type": "execute_result"
    }
   ],
   "source": [
    "df.columns\n"
   ]
  },
  {
   "cell_type": "code",
   "execution_count": 7,
   "id": "6a7cca33-1861-4a17-b9c7-55df6f77c3d8",
   "metadata": {},
   "outputs": [
    {
     "data": {
      "text/plain": [
       "<bound method DataFrame.reset_index of                    time      open      high       low     close        amount\n",
       "date                                                                         \n",
       "20160104  1451836800000  3536.588  3538.689  3295.740  3296.258  2.409292e+11\n",
       "20160105  1451923200000  3196.651  3328.138  3189.604  3287.710  3.284172e+11\n",
       "20160106  1452009600000  3291.194  3362.973  3288.933  3361.840  2.852432e+11\n",
       "20160107  1452096000000  3309.657  3309.657  3115.885  3125.001  7.998199e+10\n",
       "20160108  1452182400000  3194.625  3235.451  3056.877  3186.412  3.241671e+11\n",
       "...                 ...       ...       ...       ...       ...           ...\n",
       "20241028  1730044800000  2228.078  2236.472  2198.886  2229.118  5.756032e+11\n",
       "20241029  1730131200000  2231.824  2239.262  2175.813  2177.306  6.316393e+11\n",
       "20241030  1730217600000  2156.277  2179.944  2127.633  2151.515  5.564708e+11\n",
       "20241031  1730304000000  2145.655  2204.859  2130.268  2164.461  6.488574e+11\n",
       "20241101  1730390400000  2149.938  2166.521  2120.725  2123.738  6.006182e+11\n",
       "\n",
       "[6501 rows x 6 columns]>"
      ]
     },
     "execution_count": 7,
     "metadata": {},
     "output_type": "execute_result"
    }
   ],
   "source": [
    "df[['time', 'open', 'high', 'low', 'close', 'amount']].reset_index"
   ]
  },
  {
   "cell_type": "code",
   "execution_count": 4,
   "id": "d5e2a8a1-a978-46ca-b9de-5f1cc13f59f4",
   "metadata": {},
   "outputs": [
    {
     "name": "stdout",
     "output_type": "stream",
     "text": [
      "***** xtdata连接成功 *****\n",
      "服务信息: {'tag': 'sp3', 'version': '1.0'}\n",
      "服务地址: 127.0.0.1:58610\n",
      "数据路径: C:\\e_trader\\bin.x64/../userdata_mini/datadir\n",
      "设置xtdata.enable_hello = False可隐藏此消息\n",
      "\n"
     ]
    },
    {
     "name": "stderr",
     "output_type": "stream",
     "text": [
      "\u001B[32m2024-11-03 08:35:05 | INFO     | download_xt_data:37 - 成功下载股票数据：510050.SH\u001B[0m\n",
      "\u001B[32m2024-11-03 08:35:05 | INFO     | download_xt_data:37 - 成功下载股票数据：510300.SH\u001B[0m\n",
      "\u001B[32m2024-11-03 08:35:05 | INFO     | download_xt_data:37 - 成功下载股票数据：510500.SH\u001B[0m\n",
      "\u001B[32m2024-11-03 08:35:06 | INFO     | download_xt_data:37 - 成功下载股票数据：511260.SH\u001B[0m\n",
      "\u001B[32m2024-11-03 08:35:06 | INFO     | download_xt_data:37 - 成功下载股票数据：511010.SH\u001B[0m\n",
      "\u001B[32m2024-11-03 08:35:06 | INFO     | download_xt_data:37 - 成功下载股票数据：512010.SH\u001B[0m\n",
      "\u001B[32m2024-11-03 08:35:06 | INFO     | download_xt_data:37 - 成功下载股票数据：512040.SH\u001B[0m\n",
      "\u001B[32m2024-11-03 08:35:06 | INFO     | download_xt_data:37 - 成功下载股票数据：512200.SH\u001B[0m\n",
      "\u001B[32m2024-11-03 08:35:06 | INFO     | download_xt_data:37 - 成功下载股票数据：512690.SH\u001B[0m\n",
      "\u001B[32m2024-11-03 08:35:06 | INFO     | download_xt_data:37 - 成功下载股票数据：512290.SH\u001B[0m\n",
      "\u001B[32m2024-11-03 08:35:06 | INFO     | download_xt_data:37 - 成功下载股票数据：512900.SH\u001B[0m\n",
      "\u001B[32m2024-11-03 08:35:07 | INFO     | download_xt_data:37 - 成功下载股票数据：513050.SH\u001B[0m\n",
      "\u001B[32m2024-11-03 08:35:07 | INFO     | download_xt_data:37 - 成功下载股票数据：513100.SH\u001B[0m\n",
      "\u001B[32m2024-11-03 08:35:07 | INFO     | download_xt_data:37 - 成功下载股票数据：513500.SH\u001B[0m\n",
      "\u001B[32m2024-11-03 08:35:07 | INFO     | download_xt_data:37 - 成功下载股票数据：513880.SH\u001B[0m\n",
      "\u001B[32m2024-11-03 08:35:07 | INFO     | download_xt_data:37 - 成功下载股票数据：515070.SH\u001B[0m\n",
      "\u001B[32m2024-11-03 08:35:07 | INFO     | download_xt_data:37 - 成功下载股票数据：515100.SH\u001B[0m\n",
      "\u001B[32m2024-11-03 08:35:07 | INFO     | download_xt_data:37 - 成功下载股票数据：515180.SH\u001B[0m\n",
      "\u001B[32m2024-11-03 08:35:07 | INFO     | download_xt_data:37 - 成功下载股票数据：515220.SH\u001B[0m\n",
      "\u001B[32m2024-11-03 08:35:07 | INFO     | download_xt_data:37 - 成功下载股票数据：515250.SH\u001B[0m\n",
      "\u001B[32m2024-11-03 08:35:07 | INFO     | download_xt_data:37 - 成功下载股票数据：515290.SH\u001B[0m\n",
      "\u001B[32m2024-11-03 08:35:08 | INFO     | download_xt_data:37 - 成功下载股票数据：515880.SH\u001B[0m\n",
      "\u001B[32m2024-11-03 08:35:08 | INFO     | download_xt_data:37 - 成功下载股票数据：516150.SH\u001B[0m\n",
      "\u001B[32m2024-11-03 08:35:08 | INFO     | download_xt_data:37 - 成功下载股票数据：518800.SH\u001B[0m\n",
      "\u001B[32m2024-11-03 08:35:08 | INFO     | download_xt_data:37 - 成功下载股票数据：588000.SH\u001B[0m\n",
      "\u001B[32m2024-11-03 08:35:08 | INFO     | download_xt_data:37 - 成功下载股票数据：588120.SH\u001B[0m\n",
      "\u001B[32m2024-11-03 08:35:08 | INFO     | download_xt_data:37 - 成功下载股票数据：588200.SH\u001B[0m\n",
      "\u001B[32m2024-11-03 08:35:08 | INFO     | download_xt_data:37 - 成功下载股票数据：600733.SH\u001B[0m\n",
      "\u001B[32m2024-11-03 08:35:08 | INFO     | download_xt_data:37 - 成功下载股票数据：601127.SH\u001B[0m\n",
      "\u001B[32m2024-11-03 08:35:08 | INFO     | download_xt_data:37 - 成功下载股票数据：601838.SH\u001B[0m\n",
      "\u001B[32m2024-11-03 08:35:09 | INFO     | download_xt_data:37 - 成功下载股票数据：159770.SZ\u001B[0m\n",
      "\u001B[32m2024-11-03 08:35:09 | INFO     | download_xt_data:37 - 成功下载股票数据：159811.SZ\u001B[0m\n",
      "\u001B[32m2024-11-03 08:35:09 | INFO     | download_xt_data:37 - 成功下载股票数据：159825.SZ\u001B[0m\n",
      "\u001B[32m2024-11-03 08:35:09 | INFO     | download_xt_data:37 - 成功下载股票数据：159857.SZ\u001B[0m\n",
      "\u001B[32m2024-11-03 08:35:09 | INFO     | download_xt_data:37 - 成功下载股票数据：159867.SZ\u001B[0m\n",
      "\u001B[32m2024-11-03 08:35:09 | INFO     | download_xt_data:37 - 成功下载股票数据：159869.SZ\u001B[0m\n",
      "\u001B[32m2024-11-03 08:35:09 | INFO     | download_xt_data:37 - 成功下载股票数据：159892.SZ\u001B[0m\n",
      "\u001B[32m2024-11-03 08:35:09 | INFO     | download_xt_data:37 - 成功下载股票数据：159936.SZ\u001B[0m\n",
      "\u001B[32m2024-11-03 08:35:09 | INFO     | download_xt_data:37 - 成功下载股票数据：159980.SZ\u001B[0m\n",
      "\u001B[32m2024-11-03 08:35:09 | INFO     | download_xt_data:37 - 成功下载股票数据：159981.SZ\u001B[0m\n",
      "\u001B[32m2024-11-03 08:35:10 | INFO     | download_xt_data:37 - 成功下载股票数据：159985.SZ\u001B[0m\n",
      "\u001B[32m2024-11-03 08:35:10 | INFO     | download_xt_data:37 - 成功下载股票数据：159998.SZ\u001B[0m\n",
      "\u001B[32m2024-11-03 08:35:10 | INFO     | download_xt_data:37 - 成功下载股票数据：161226.SZ\u001B[0m\n",
      "\u001B[32m2024-11-03 08:35:11 | INFO     | download_xt_data:37 - 成功下载股票数据：000001.SH\u001B[0m\n",
      "\u001B[32m2024-11-03 08:35:11 | INFO     | download_xt_data:37 - 成功下载股票数据：399001.SZ\u001B[0m\n",
      "\u001B[32m2024-11-03 08:35:11 | INFO     | download_xt_data:37 - 成功下载股票数据：399006.SZ\u001B[0m\n",
      "\u001B[32m2024-11-03 08:35:11 | INFO     | multivariate_timeseries:210 - 数据 'train' 已保存到 D:\\dlquant\\data\\precessed_data\\train.pkl\u001B[0m\n",
      "\u001B[32m2024-11-03 08:35:11 | INFO     | multivariate_timeseries:210 - 数据 'val' 已保存到 D:\\dlquant\\data\\precessed_data\\val.pkl\u001B[0m\n",
      "\u001B[32m2024-11-03 08:35:11 | INFO     | multivariate_timeseries:210 - 数据 'test' 已保存到 D:\\dlquant\\data\\precessed_data\\test.pkl\u001B[0m\n",
      "\u001B[32m2024-11-03 08:35:11 | INFO     | multivariate_timeseries:210 - 数据 'past_covariates' 已保存到 D:\\dlquant\\data\\precessed_data\\past_covariates.pkl\u001B[0m\n",
      "\u001B[32m2024-11-03 08:35:11 | INFO     | multivariate_timeseries:210 - 数据 'future_covariates' 已保存到 D:\\dlquant\\data\\precessed_data\\future_covariates.pkl\u001B[0m\n",
      "\u001B[32m2024-11-03 08:35:11 | INFO     | multivariate_timeseries:210 - 数据 'scaler_train' 已保存到 D:\\dlquant\\data\\precessed_data\\scaler_train.pkl\u001B[0m\n",
      "\u001B[32m2024-11-03 08:35:11 | INFO     | multivariate_timeseries:210 - 数据 'scaler_past' 已保存到 D:\\dlquant\\data\\precessed_data\\scaler_past.pkl\u001B[0m\n"
     ]
    }
   ],
   "source": [
    "from load_data.multivariate_timeseries import generate_processed_series_data\n",
    "data = generate_processed_series_data()"
   ]
  },
  {
   "cell_type": "code",
   "execution_count": 8,
   "id": "43e7e1c7-ce20-4c06-b0eb-784abc2abe1e",
   "metadata": {},
   "outputs": [
    {
     "data": {
      "text/plain": [
       "component\n",
       "159770.SZ    155.0\n",
       "159811.SZ    159.0\n",
       "159825.SZ    136.0\n",
       "159857.SZ    157.0\n",
       "159867.SZ    141.0\n",
       "159869.SZ    184.0\n",
       "159892.SZ    177.0\n",
       "159936.SZ    101.0\n",
       "159980.SZ     72.0\n",
       "159981.SZ    100.0\n",
       "159985.SZ     96.0\n",
       "159998.SZ    171.0\n",
       "161226.SZ    103.0\n",
       "510050.SH     84.0\n",
       "510300.SH     84.0\n",
       "510500.SH    110.0\n",
       "511010.SH      0.0\n",
       "511260.SH      0.0\n",
       "512010.SH    136.0\n",
       "512040.SH     95.0\n",
       "512200.SH    154.0\n",
       "512290.SH    143.0\n",
       "512690.SH    154.0\n",
       "512900.SH    137.0\n",
       "513050.SH    151.0\n",
       "513100.SH     88.0\n",
       "513500.SH     84.0\n",
       "513880.SH    111.0\n",
       "515070.SH    173.0\n",
       "515100.SH     96.0\n",
       "515180.SH     87.0\n",
       "515220.SH    150.0\n",
       "515250.SH    163.0\n",
       "515290.SH    100.0\n",
       "515880.SH    176.0\n",
       "516150.SH    153.0\n",
       "518800.SH     71.0\n",
       "588000.SH    151.0\n",
       "588120.SH    158.0\n",
       "588200.SH    175.0\n",
       "600733.SH    204.0\n",
       "601127.SH    201.0\n",
       "601838.SH    157.0\n",
       "dtype: float32"
      ]
     },
     "execution_count": 8,
     "metadata": {},
     "output_type": "execute_result"
    }
   ],
   "source": [
    "data['val'].pd_dataframe().sum()"
   ]
  },
  {
   "cell_type": "code",
   "execution_count": null,
   "id": "b79dca3e-819c-493c-84f4-20f3e3a678b7",
   "metadata": {},
   "outputs": [],
   "source": []
  }
 ],
 "metadata": {
  "kernelspec": {
   "display_name": "Python 3 (ipykernel)",
   "language": "python",
   "name": "python3"
  },
  "language_info": {
   "codemirror_mode": {
    "name": "ipython",
    "version": 3
   },
   "file_extension": ".py",
   "mimetype": "text/x-python",
   "name": "python",
   "nbconvert_exporter": "python",
   "pygments_lexer": "ipython3",
   "version": "3.11.9"
  }
 },
 "nbformat": 4,
 "nbformat_minor": 5
}
