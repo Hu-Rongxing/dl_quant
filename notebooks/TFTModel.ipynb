{
 "cells": [
  {
   "cell_type": "code",
   "execution_count": 1,
   "id": "32273eef-68bd-4175-99ea-bbed6fce7ae9",
   "metadata": {},
   "outputs": [
    {
     "name": "stdout",
     "output_type": "stream",
     "text": [
      "当前工作目录：D:\\dlquant\n",
      "matplotlib显示字体已设置为中文。\n"
     ]
    }
   ],
   "source": [
    "%run set_jupyter.py\n",
    "%matplotlib inline "
   ]
  },
  {
   "cell_type": "code",
   "execution_count": 2,
   "id": "df8caafe-f930-4bbb-a55b-cb66915697e2",
   "metadata": {},
   "outputs": [
    {
     "name": "stderr",
     "output_type": "stream",
     "text": [
      "C:\\Users\\huron\\AppData\\Local\\pypoetry\\Cache\\virtualenvs\\dlquant-vxVcaLmo-py3.11\\Lib\\site-packages\\tqdm\\auto.py:21: TqdmWarning: IProgress not found. Please update jupyter and ipywidgets. See https://ipywidgets.readthedocs.io/en/stable/user_install.html\n",
      "  from .autonotebook import tqdm as notebook_tqdm\n"
     ]
    }
   ],
   "source": [
    "import torch\n",
    "from torch.nn.modules.loss import MSELoss, CrossEntropyLoss\n",
    "from torch.nn import MSELoss, BCEWithLogitsLoss \n",
    "\n",
    "from pytorch_lightning import Trainer, loggers as pl_loggers  \n",
    "from pytorch_lightning.callbacks import EarlyStopping, ModelCheckpoint, Callback\n",
    " \n",
    "from darts.utils.callbacks import TFMProgressBar\n",
    "from darts.models import TFTModel\n",
    "from darts.metrics import mape, mse, mae\n",
    "from sklearn.metrics import mean_squared_error, precision_score \n",
    "\n",
    "import optuna  \n",
    "from pathlib import Path\n",
    "\n",
    "# 自定义\n",
    "from config import TIMESERIES_LENGTH # 测试和验证数据长度设置\n",
    "from data_precessing.timeseries import prepare_timeseries_data  # 获取训练数据、验证数据和测试数据\n",
    "from utils.model import MAPELoss, LossLogger\n",
    "from config import TIMESERIES_LENGTH\n",
    "from models.params import get_pl_trainer_kwargs, early_stopper, progress_bar"
   ]
  },
  {
   "cell_type": "code",
   "execution_count": 3,
   "id": "34173d58-7065-4159-b314-feb594540a41",
   "metadata": {},
   "outputs": [
    {
     "data": {
      "text/plain": [
       "WindowsPath('D:/dlquant/logs/TFTModel_logs')"
      ]
     },
     "execution_count": 3,
     "metadata": {},
     "output_type": "execute_result"
    }
   ],
   "source": [
    "loss_logger = LossLogger()\n",
    "\n",
    "progress_bar = TFMProgressBar(  \n",
    "        enable_sanity_check_bar=False, enable_validation_bar=False  \n",
    "    ) \n",
    "\n",
    "early_stopper = EarlyStopping(  \n",
    "            monitor=\"val_loss\",  \n",
    "            patience=10,  \n",
    "            min_delta=1e-6,  \n",
    "            mode=\"min\",  \n",
    "        )  \n",
    "model_name = \"TFTModel\"\n",
    "\n",
    "work_dir = Path(f\"logs/{model_name}_logs\").resolve() \n",
    "work_dir"
   ]
  },
  {
   "cell_type": "code",
   "execution_count": 4,
   "id": "1a048789-0abe-41b0-99dd-34aa633ec1f0",
   "metadata": {},
   "outputs": [
    {
     "name": "stdout",
     "output_type": "stream",
     "text": [
      "***** xtdata连接成功 *****\n",
      "服务信息: {'tag': 'sp3', 'version': '1.0'}\n",
      "服务地址: 127.0.0.1:58610\n",
      "数据路径: C:\\e_trader\\bin.x64/../userdata_mini/datadir\n",
      "设置xtdata.enable_hello = False可隐藏此消息\n",
      "\n"
     ]
    },
    {
     "name": "stderr",
     "output_type": "stream",
     "text": [
      "\u001B[32m2024-09-14 21:13:14 | INFO     | download_xt_data:36 - 成功下载股票数据：510050.SH\u001B[0m\n",
      "\u001B[32m2024-09-14 21:13:15 | INFO     | download_xt_data:36 - 成功下载股票数据：510300.SH\u001B[0m\n",
      "\u001B[32m2024-09-14 21:13:15 | INFO     | download_xt_data:36 - 成功下载股票数据：510500.SH\u001B[0m\n",
      "\u001B[32m2024-09-14 21:13:15 | INFO     | download_xt_data:36 - 成功下载股票数据：511260.SH\u001B[0m\n",
      "\u001B[32m2024-09-14 21:13:15 | INFO     | download_xt_data:36 - 成功下载股票数据：511010.SH\u001B[0m\n",
      "\u001B[32m2024-09-14 21:13:15 | INFO     | download_xt_data:36 - 成功下载股票数据：512010.SH\u001B[0m\n",
      "\u001B[32m2024-09-14 21:13:15 | INFO     | download_xt_data:36 - 成功下载股票数据：512040.SH\u001B[0m\n",
      "\u001B[32m2024-09-14 21:13:16 | INFO     | download_xt_data:36 - 成功下载股票数据：512690.SH\u001B[0m\n",
      "\u001B[32m2024-09-14 21:13:16 | INFO     | download_xt_data:36 - 成功下载股票数据：512290.SH\u001B[0m\n",
      "\u001B[32m2024-09-14 21:13:16 | INFO     | download_xt_data:36 - 成功下载股票数据：513050.SH\u001B[0m\n",
      "\u001B[32m2024-09-14 21:13:16 | INFO     | download_xt_data:36 - 成功下载股票数据：513100.SH\u001B[0m\n",
      "\u001B[32m2024-09-14 21:13:16 | INFO     | download_xt_data:36 - 成功下载股票数据：513500.SH\u001B[0m\n",
      "\u001B[32m2024-09-14 21:13:16 | INFO     | download_xt_data:36 - 成功下载股票数据：513880.SH\u001B[0m\n",
      "\u001B[32m2024-09-14 21:13:16 | INFO     | download_xt_data:36 - 成功下载股票数据：515070.SH\u001B[0m\n",
      "\u001B[32m2024-09-14 21:13:16 | INFO     | download_xt_data:36 - 成功下载股票数据：515100.SH\u001B[0m\n",
      "\u001B[32m2024-09-14 21:13:16 | INFO     | download_xt_data:36 - 成功下载股票数据：515180.SH\u001B[0m\n",
      "\u001B[32m2024-09-14 21:13:16 | INFO     | download_xt_data:36 - 成功下载股票数据：515220.SH\u001B[0m\n",
      "\u001B[32m2024-09-14 21:13:16 | INFO     | download_xt_data:36 - 成功下载股票数据：515250.SH\u001B[0m\n",
      "\u001B[32m2024-09-14 21:13:16 | INFO     | download_xt_data:36 - 成功下载股票数据：515290.SH\u001B[0m\n",
      "\u001B[32m2024-09-14 21:13:16 | INFO     | download_xt_data:36 - 成功下载股票数据：515880.SH\u001B[0m\n",
      "\u001B[32m2024-09-14 21:13:16 | INFO     | download_xt_data:36 - 成功下载股票数据：516150.SH\u001B[0m\n",
      "\u001B[32m2024-09-14 21:13:16 | INFO     | download_xt_data:36 - 成功下载股票数据：518800.SH\u001B[0m\n",
      "\u001B[32m2024-09-14 21:13:17 | INFO     | download_xt_data:36 - 成功下载股票数据：588000.SH\u001B[0m\n",
      "\u001B[32m2024-09-14 21:13:17 | INFO     | download_xt_data:36 - 成功下载股票数据：588120.SH\u001B[0m\n",
      "\u001B[32m2024-09-14 21:13:17 | INFO     | download_xt_data:36 - 成功下载股票数据：588200.SH\u001B[0m\n",
      "\u001B[32m2024-09-14 21:13:17 | INFO     | download_xt_data:36 - 成功下载股票数据：600733.SH\u001B[0m\n",
      "\u001B[32m2024-09-14 21:13:17 | INFO     | download_xt_data:36 - 成功下载股票数据：601127.SH\u001B[0m\n",
      "\u001B[32m2024-09-14 21:13:17 | INFO     | download_xt_data:36 - 成功下载股票数据：601838.SH\u001B[0m\n",
      "\u001B[32m2024-09-14 21:13:17 | INFO     | download_xt_data:36 - 成功下载股票数据：159770.SZ\u001B[0m\n",
      "\u001B[32m2024-09-14 21:13:17 | INFO     | download_xt_data:36 - 成功下载股票数据：159811.SZ\u001B[0m\n",
      "\u001B[32m2024-09-14 21:13:17 | INFO     | download_xt_data:36 - 成功下载股票数据：159825.SZ\u001B[0m\n",
      "\u001B[32m2024-09-14 21:13:17 | INFO     | download_xt_data:36 - 成功下载股票数据：159857.SZ\u001B[0m\n",
      "\u001B[32m2024-09-14 21:13:17 | INFO     | download_xt_data:36 - 成功下载股票数据：159867.SZ\u001B[0m\n",
      "\u001B[32m2024-09-14 21:13:17 | INFO     | download_xt_data:36 - 成功下载股票数据：159869.SZ\u001B[0m\n",
      "\u001B[32m2024-09-14 21:13:17 | INFO     | download_xt_data:36 - 成功下载股票数据：159892.SZ\u001B[0m\n",
      "\u001B[32m2024-09-14 21:13:17 | INFO     | download_xt_data:36 - 成功下载股票数据：159936.SZ\u001B[0m\n",
      "\u001B[32m2024-09-14 21:13:17 | INFO     | download_xt_data:36 - 成功下载股票数据：159980.SZ\u001B[0m\n",
      "\u001B[32m2024-09-14 21:13:18 | INFO     | download_xt_data:36 - 成功下载股票数据：159981.SZ\u001B[0m\n",
      "\u001B[32m2024-09-14 21:13:18 | INFO     | download_xt_data:36 - 成功下载股票数据：159985.SZ\u001B[0m\n",
      "\u001B[32m2024-09-14 21:13:18 | INFO     | download_xt_data:36 - 成功下载股票数据：159998.SZ\u001B[0m\n",
      "\u001B[32m2024-09-14 21:13:18 | INFO     | download_xt_data:36 - 成功下载股票数据：161226.SZ\u001B[0m\n",
      "D:\\dlquant\\data_precessing\\timeseries.py:145: FutureWarning: Downcasting behavior in `replace` is deprecated and will be removed in a future version. To retain the old behavior, explicitly call `result.infer_objects(copy=False)`. To opt-in to the future behavior, set `pd.set_option('future.no_silent_downcasting', True)`\n",
      "  covariate_df.replace(replace_dic, inplace=True)\n",
      "\u001B[32m2024-09-14 21:13:21 | INFO     | timeseries:148 - 成功创建组合数据\u001B[0m\n",
      "\u001B[32m2024-09-14 21:13:22 | INFO     | timeseries:160 - 成功创建时间序列\u001B[0m\n",
      "\u001B[32m2024-09-14 21:13:22 | INFO     | timeseries:206 - 缩放器成功训练\u001B[0m\n",
      "\u001B[32m2024-09-14 21:13:22 | INFO     | timeseries:224 - 成功生成未来协变量\u001B[0m\n",
      "\u001B[32m2024-09-14 21:13:22 | INFO     | timeseries:290 - 数据 train 已保存到 D:\\dlquant\\data\\precessed_data\\train.pkl\u001B[0m\n",
      "\u001B[32m2024-09-14 21:13:22 | INFO     | timeseries:290 - 数据 val 已保存到 D:\\dlquant\\data\\precessed_data\\val.pkl\u001B[0m\n",
      "\u001B[32m2024-09-14 21:13:22 | INFO     | timeseries:290 - 数据 test 已保存到 D:\\dlquant\\data\\precessed_data\\test.pkl\u001B[0m\n",
      "\u001B[32m2024-09-14 21:13:22 | INFO     | timeseries:290 - 数据 past_covariates 已保存到 D:\\dlquant\\data\\precessed_data\\past_covariates.pkl\u001B[0m\n",
      "\u001B[32m2024-09-14 21:13:22 | INFO     | timeseries:290 - 数据 future_covariates 已保存到 D:\\dlquant\\data\\precessed_data\\future_covariates.pkl\u001B[0m\n",
      "\u001B[32m2024-09-14 21:13:22 | INFO     | timeseries:290 - 数据 scaler_train 已保存到 D:\\dlquant\\data\\precessed_data\\scaler_train.pkl\u001B[0m\n",
      "\u001B[32m2024-09-14 21:13:22 | INFO     | timeseries:290 - 数据 scaler_past 已保存到 D:\\dlquant\\data\\precessed_data\\scaler_past.pkl\u001B[0m\n"
     ]
    }
   ],
   "source": [
    "data = prepare_timeseries_data('training')"
   ]
  },
  {
   "cell_type": "code",
   "execution_count": 5,
   "id": "939cd51c-dd75-4247-9823-9a8aa02d087c",
   "metadata": {},
   "outputs": [],
   "source": [
    "model = TFTModel(\n",
    "    input_chunk_length=20, \n",
    "    output_chunk_length=5, \n",
    "    output_chunk_shift=0, \n",
    "    hidden_size=16, \n",
    "    lstm_layers=1, \n",
    "    num_attention_heads=4, \n",
    "    full_attention=False, \n",
    "    feed_forward='GatedResidualNetwork', \n",
    "    dropout=0.1, \n",
    "    hidden_continuous_size=8, \n",
    "    categorical_embedding_sizes=None, \n",
    "    add_relative_index=False, \n",
    "    norm_type='LayerNorm', \n",
    "    use_static_covariates=True,\n",
    "    \n",
    "    loss_fn=BCEWithLogitsLoss(), \n",
    "    pl_trainer_kwargs = get_pl_trainer_kwargs(),\n",
    "\n",
    "    work_dir = work_dir, \n",
    "    save_checkpoints = True,\n",
    "    force_reset=True,\n",
    "    model_name = model_name\n",
    ")"
   ]
  },
  {
   "cell_type": "code",
   "execution_count": null,
   "id": "76052932-67d1-4539-9900-4d094bb73982",
   "metadata": {},
   "outputs": [
    {
     "name": "stderr",
     "output_type": "stream",
     "text": [
      "GPU available: False, used: False\n",
      "TPU available: False, using: 0 TPU cores\n",
      "HPU available: False, using: 0 HPUs\n",
      "\n",
      "   | Name                              | Type                             | Params | Mode \n",
      "------------------------------------------------------------------------------------------------\n",
      "0  | criterion                         | BCEWithLogitsLoss                | 0      | train\n",
      "1  | train_criterion                   | BCEWithLogitsLoss                | 0      | train\n",
      "2  | val_criterion                     | BCEWithLogitsLoss                | 0      | train\n",
      "3  | train_metrics                     | MetricCollection                 | 0      | train\n",
      "4  | val_metrics                       | MetricCollection                 | 0      | train\n",
      "5  | input_embeddings                  | _MultiEmbedding                  | 0      | train\n",
      "6  | static_covariates_vsn             | _VariableSelectionNetwork        | 0      | train\n",
      "7  | encoder_vsn                       | _VariableSelectionNetwork        | 1.2 M  | train\n",
      "8  | decoder_vsn                       | _VariableSelectionNetwork        | 28.3 K | train\n",
      "9  | static_context_grn                | _GatedResidualNetwork            | 1.1 K  | train\n",
      "10 | static_context_hidden_encoder_grn | _GatedResidualNetwork            | 1.1 K  | train\n",
      "11 | static_context_cell_encoder_grn   | _GatedResidualNetwork            | 1.1 K  | train\n",
      "12 | static_context_enrichment         | _GatedResidualNetwork            | 1.1 K  | train\n",
      "13 | lstm_encoder                      | LSTM                             | 2.2 K  | train\n",
      "14 | lstm_decoder                      | LSTM                             | 2.2 K  | train\n",
      "15 | post_lstm_gan                     | _GateAddNorm                     | 576    | train\n",
      "16 | static_enrichment_grn             | _GatedResidualNetwork            | 1.4 K  | train\n",
      "17 | multihead_attn                    | _InterpretableMultiHeadAttention | 676    | train\n",
      "18 | post_attn_gan                     | _GateAddNorm                     | 576    | train\n",
      "19 | feed_forward_block                | _GatedResidualNetwork            | 1.1 K  | train\n",
      "20 | pre_output_gan                    | _GateAddNorm                     | 576    | train\n",
      "21 | output_layer                      | Linear                           | 697    | train\n",
      "------------------------------------------------------------------------------------------------\n",
      "1.3 M     Trainable params\n",
      "0         Non-trainable params\n",
      "1.3 M     Total params\n",
      "5.069     Total estimated model params size (MB)\n",
      "27136     Modules in train mode\n",
      "0         Modules in eval mode\n"
     ]
    },
    {
     "name": "stdout",
     "output_type": "stream",
     "text": [
      "Epoch 3:  48%|████▊     | 28/58 [01:36<01:43,  3.45s/it, train_loss=0.486, val_loss=0.666]"
     ]
    }
   ],
   "source": [
    "model.fit(\n",
    "    # 训练集\n",
    "    series=data['train'],\n",
    "    past_covariates=data['past_covariates'],\n",
    "    future_covariates=data['future_covariates'],\n",
    "    # 验证集\n",
    "    val_series=data['val'],\n",
    "    val_past_covariates=data['past_covariates'],\n",
    "    val_future_covariates=data['future_covariates'],\n",
    ")"
   ]
  },
  {
   "cell_type": "code",
   "execution_count": null,
   "id": "8d4338af-1a80-4509-8f43-0a08a5ff3bda",
   "metadata": {},
   "outputs": [],
   "source": [
    "model = model.load_from_checkpoint(model_name=model_name, work_dir=work_dir)"
   ]
  },
  {
   "cell_type": "code",
   "execution_count": null,
   "id": "b8d4c031-bb4a-4258-b042-288260e91259",
   "metadata": {},
   "outputs": [],
   "source": [
    "pred_steps = TIMESERIES_LENGTH[\"test_length\"]\n",
    "pred_input = data[\"test\"][:-pred_steps]\n",
    "\n",
    "pred_series = model.predict(n=pred_steps, series=pred_input)\n",
    "\n",
    "# 对预测结果进行二值化和展平 \n",
    "true_labels = data[\"test\"][-pred_steps:].values()  \n",
    "true_labels = true_labels.astype(int).flatten()  # Flatten to 1D   \n",
    "binary_predictions = pred_series.values() > 0.5  \n",
    "binary_predictions = binary_predictions.astype(int).flatten()  \n",
    "\n",
    "# 计算精确率  \n",
    "precision = precision_score(true_labels, binary_predictions)  \n",
    "precision"
   ]
  },
  {
   "cell_type": "code",
   "execution_count": null,
   "id": "02df63cd-08b1-4253-82cf-35b244a13917",
   "metadata": {},
   "outputs": [],
   "source": [
    "for i, stock in enumerate(data[\"test\"].columns[:3]):\n",
    "    data[\"test\"][-pred_steps:].data_array().sel(component=stock).plot(label=f\"{stock}_实际数据\")\n",
    "    pred_series.data_array().sel(component=stock).plot(label=f\"{stock}_预测结果\")\n",
    "    # data['test'].slice_intersect(hfc).data_array().sel(component=stock).plot(label=f\"{stock}_实际数据\")\n",
    "    plt.legend()\n",
    "    plt.show()"
   ]
  },
  {
   "cell_type": "code",
   "execution_count": null,
   "id": "1dd01aef-1122-4ad6-a0dd-f866098d349f",
   "metadata": {},
   "outputs": [],
   "source": []
  },
  {
   "cell_type": "code",
   "execution_count": null,
   "id": "636fbacb-6095-4182-b95a-637aa983ff38",
   "metadata": {},
   "outputs": [],
   "source": []
  }
 ],
 "metadata": {
  "kernelspec": {
   "display_name": "Python 3 (ipykernel)",
   "language": "python",
   "name": "python3"
  },
  "language_info": {
   "codemirror_mode": {
    "name": "ipython",
    "version": 3
   },
   "file_extension": ".py",
   "mimetype": "text/x-python",
   "name": "python",
   "nbconvert_exporter": "python",
   "pygments_lexer": "ipython3",
   "version": "3.11.9"
  }
 },
 "nbformat": 4,
 "nbformat_minor": 5
}
